{
 "cells": [
  {
   "cell_type": "markdown",
   "id": "57d47784-c188-4f2f-b101-178b9e26cc1d",
   "metadata": {},
   "source": [
    "# Import Modules"
   ]
  },
  {
   "cell_type": "code",
   "execution_count": 1,
   "id": "77344281-a44e-4af7-ba98-b2cd03a9f778",
   "metadata": {},
   "outputs": [],
   "source": [
    "import numpy as np\n",
    "import matplotlib.gridspec as gridspec\n"
   ]
  },
  {
   "cell_type": "code",
   "execution_count": 2,
   "id": "07949fc1-9825-4469-aaa7-bfd924b33237",
   "metadata": {},
   "outputs": [],
   "source": [
    "mdir_PR4 = \"/global/project/projectdirs/cmb/data/planck2020/pla/frequency_maps/Single-frequency/\"\n",
    "mdir_PR3 = \"/global/project/projectdirs/cmb/data/planck2018/pr3/frequencymaps/\"\n",
    "PR4      = \"HFI_SkyMap_353_2048_R4.00_full.fits\"\n",
    "PR3      = \"HFI_SkyMap_353_2048_R3.01_full.fits\""
   ]
  },
  {
   "cell_type": "code",
   "execution_count": 3,
   "id": "9a606a5d-e009-4593-8a93-7a2daa2072cf",
   "metadata": {},
   "outputs": [],
   "source": [
    "import healpy as hp\n",
    "import pysm3.units as u\n",
    "comp = \"IQU\"\n",
    "m = hp.read_map(mdir_PR4 + PR4, [c + \"_STOKES\" for c in comp], \n",
    "                   dtype = np.float64)\n",
    "m <<= u.K_CMB\n",
    "m = m.to('uK_RJ', equivalencies = u.cmb_equivalencies(353 * u.GHz))"
   ]
  },
  {
   "cell_type": "code",
   "execution_count": 4,
   "id": "ef37d977-38f7-4e46-9aec-c8aec5cf6319",
   "metadata": {},
   "outputs": [],
   "source": [
    "import pandas as pd\n",
    "from astropy.table import Table\n",
    "target_url = 'https://irsa.ipac.caltech.edu/data/Planck/release_2/catalogs/HFI_PCCS_GCC_R2.02.fits'\n",
    "PGCC = Table.read(target_url, format = 'fits')\n",
    "df   = PGCC.to_pandas()\n",
    "df   = df[df.FLUX_QUALITY  == 1]    # Cut to best quality sources\n",
    "df   = df[df.FLUX_BLENDING == 0]   # Cut out overlapping sources\n",
    "df   = df.reset_index(drop = True) # Reset dataframe indices\n",
    "df = df[:100]"
   ]
  },
  {
   "cell_type": "code",
   "execution_count": 5,
   "id": "97e15394-653f-4c91-8d38-1873f8724fe2",
   "metadata": {},
   "outputs": [],
   "source": [
    "output_dir = \"/global/cscratch1/sd/justinc/\"\n",
    "\n",
    "def stack_I(l, b, p):\n",
    "    return(hp.gnomview(I, rot = [l,b,p],\n",
    "                      reso = 1, xsize = 50,\n",
    "                      coord = 'G', no_plot = True,\n",
    "                      return_projected_map = True))\n",
    "def stack_P(l, b, p):\n",
    "    return(hp.gnomview(P, rot = [l,b,p],\n",
    "                      reso = 1, xsize = 50,\n",
    "                      coord = 'G', no_plot = True,\n",
    "                      return_projected_map = True))\n",
    "\n",
    "def repeatI(l,b):\n",
    "    p = np.random.randint(0,360,5)\n",
    "    res = [stack_I(l,b,p[i]) for i in range(len(p))]\n",
    "    return np.mean(res, axis = 0)\n",
    "\n",
    "def repeatP(l,b):\n",
    "    p = np.random.randint(0,360,5)\n",
    "    res = [stack_P(l,b,p[i]) for i in range(len(p))]\n",
    "    return np.mean(res, axis = 0)"
   ]
  },
  {
   "cell_type": "code",
   "execution_count": 6,
   "id": "db46743e-3d48-4379-b618-4db150de62a1",
   "metadata": {},
   "outputs": [],
   "source": [
    "m = m ** 2\n",
    "I,Q,U = m\n",
    "P = Q + U"
   ]
  },
  {
   "cell_type": "code",
   "execution_count": 8,
   "id": "19ecf2c7-70a4-4e0f-b3d2-250b6e06dd9b",
   "metadata": {},
   "outputs": [
    {
     "name": "stdout",
     "output_type": "stream",
     "text": [
      "\n",
      "Stacking unfiltered\n",
      "\n",
      "Stacking complete in 0.2047996719678243m\n"
     ]
    }
   ],
   "source": [
    "from time import time\n",
    "import multiprocessing\n",
    "\n",
    "print(\"\\nStacking unfiltered\\n\")\n",
    "t0 = time()\n",
    "glo = df['GLON']\n",
    "gla = df['GLAT']\n",
    "num_proc = 16\n",
    "pool = multiprocessing.Pool(processes = num_proc)\n",
    "process_I = [pool.apply_async(repeatI, args = (i,j)) for i,j in zip(glo,gla)]\n",
    "process_P = [pool.apply_async(repeatP, args = (i,j)) for i,j in zip(glo,gla)]\n",
    "res_I = [p.get() for p in process_I]\n",
    "res_P = [p.get() for p in process_P]\n",
    "pool.close()\n",
    "pool.join()\n",
    "print(f\"Stacking complete in {(time()-t0)/60}m\")\n",
    "stack = [res_I, res_P]\n"
   ]
  },
  {
   "cell_type": "markdown",
   "id": "af0e5783-15ed-40b3-8e66-62103d8e612c",
   "metadata": {},
   "source": [
    "# Analysis Process\n",
    "## Full sample results\n",
    "1. Import PGCC catalogue as a dataframe\n",
    "2. Load frequency maps\n",
    "3. Convert maps to uK_RJ from K_CMB\n",
    "4. Square IQU and convert Q and U to P\n",
    "5. Create patches of 50 x 50 arcmin centered around the location of each Galactic cold clump\n",
    "6. Save each patch for I and P in a list\n",
    "7. Add the patches together and divide by the total number of patches to obtain the averaged signal\n",
    "8. Perform background and noise subtraction\n",
    "    - Measure the mean signal in an annulus with chosen inner and outer radius\n",
    "    - Subtract this from the entire signal\n",
    "9. Measure the polarization fraction as the peak signal within a circle of radius 2 arcmins from the patch center"
   ]
  },
  {
   "cell_type": "code",
   "execution_count": null,
   "id": "2aa0f145-c275-4292-8579-64fa0d695c17",
   "metadata": {},
   "outputs": [],
   "source": []
  }
 ],
 "metadata": {
  "kernelspec": {
   "display_name": "jc_env-jupyter",
   "language": "python",
   "name": "jc_env-jupyter"
  },
  "language_info": {
   "codemirror_mode": {
    "name": "ipython",
    "version": 3
   },
   "file_extension": ".py",
   "mimetype": "text/x-python",
   "name": "python",
   "nbconvert_exporter": "python",
   "pygments_lexer": "ipython3",
   "version": "3.7.12"
  }
 },
 "nbformat": 4,
 "nbformat_minor": 5
}
